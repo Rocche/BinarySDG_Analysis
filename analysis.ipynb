{
 "cells": [
  {
   "cell_type": "code",
   "execution_count": 4,
   "metadata": {},
   "outputs": [],
   "source": [
    "import pandas as pd\n",
    "import numpy as np\n",
    "import datetime\n",
    "from matplotlib import pyplot as plt\n",
    "import plotly.graph_objects as go\n",
    "#from dtw import *\n",
    "from fastdtw import fastdtw\n",
    "from scipy.spatial.distance import euclidean, hamming\n",
    "\n",
    "#function that transforms input file in a dataframe with necessary features\n",
    "def init_total_dataset(file_name):\n",
    "    df = pd.read_csv(file_name)\n",
    "    #sensor names in categorical value\n",
    "    df['sensor_name'] = df['sensor_name'].astype('category')\n",
    "    #transform sensors state in binary value\n",
    "    df['sensor_state'] = df['sensor_state'].map({'ON': 1, 'OFF': 0}) \n",
    "    #convert datetime strings to datetime type\n",
    "    df['datetime'] = pd.to_datetime(df['datetime'])\n",
    "    #add column for seconds passed from the beginning\n",
    "    starting_time = df['datetime'][0].timestamp()\n",
    "    #ending_time = df['datetime'][len(df) - 1].timestamp()\n",
    "    df['timestamp'] = df['datetime'].apply(lambda x: x.timestamp() - starting_time)\n",
    "    return df\n",
    "    \n",
    "#function used to create a dictionary of dataframes: key is the sensor name, the dataframe refers to that specific sensor\n",
    "def build_datasets(sensor_names, total_df):\n",
    "    dfs_dictionary = {}\n",
    "    for sensor in sensor_names:\n",
    "        sensors_df = total_df[total_df['sensor_name'] == sensor]\n",
    "        sensors_df = sensors_df.reset_index(drop=True)\n",
    "        dfs_dictionary[sensor] = sensors_df\n",
    "    return dfs_dictionary\n",
    "\n",
    "#function that, from an array of timestamps, gets the corresponding signal from a dataset\n",
    "def get_signal_from_timestamps(timestamps, sensor_df):\n",
    "    df = sensor_df.copy(deep = True)\n",
    "    result = []\n",
    "    current_state = int(1 - df.loc[0, 'sensor_state'])\n",
    "    for t in timestamps:\n",
    "        if len(df) > 0 and df.loc[0, 'timestamp'] == t:\n",
    "            current_state = int(1 - current_state)\n",
    "            df = df.iloc[1:]\n",
    "            df = df.reset_index(drop=True)\n",
    "        result.append(current_state)\n",
    "    return result\n",
    "\n",
    "#function that builds a sensor signal dataframe\n",
    "def prepare_sensor_signal_df(sensor_df, starting_timestamp, ending_timestamp):\n",
    "    timestamps = range(int(starting_timestamp),int(ending_timestamp))\n",
    "    signal = get_signal_from_timestamps(timestamps, sensor_df)\n",
    "    d = {'timestamp': timestamps, 'sensor_state': signal}\n",
    "    sensor_signal_df = pd.DataFrame(data = d)\n",
    "    return sensor_signal_df\n",
    "    \n",
    "#function that plots a sensor signal dataframe\n",
    "def plot_sensor_signal(df, x_limit=None):\n",
    "    if x_limit and x_limit > len(df):\n",
    "        print(\"X-axis limit is greater than the dataset dimension. Plotting the whole dataset.\")\n",
    "        N = len(df)\n",
    "    elif x_limit:\n",
    "        N = x_limit\n",
    "    else:\n",
    "        N = len(df)\n",
    "    fig = go.Figure()\n",
    "    fig.add_trace(go.Scatter(x=df.loc[:N, 'timestamp'], y=df.loc[:N, 'sensor_state'],\n",
    "                        mode='lines',\n",
    "                        name='lines'))\n",
    "    fig.show()\n",
    "    "
   ]
  },
  {
   "cell_type": "code",
   "execution_count": 5,
   "metadata": {},
   "outputs": [],
   "source": [
    "df = init_total_dataset('dataset.csv')\n",
    "sensors = df['sensor_name'].unique()\n",
    "starting_time = df['timestamp'][0]\n",
    "ending_time = df['timestamp'][len(df) - 1]\n",
    "\n",
    "dfs = build_datasets(sensors, df)\n"
   ]
  },
  {
   "cell_type": "code",
   "execution_count": 6,
   "metadata": {},
   "outputs": [],
   "source": [
    "bed = prepare_sensor_signal_df(dfs['bed'], starting_time, ending_time)"
   ]
  },
  {
   "cell_type": "code",
   "execution_count": 7,
   "metadata": {},
   "outputs": [],
   "source": [
    "toilet = prepare_sensor_signal_df(dfs['toilet'], starting_time, ending_time)"
   ]
  },
  {
   "cell_type": "code",
   "execution_count": null,
   "metadata": {},
   "outputs": [],
   "source": [
    "plot_sensor_signal(bed)"
   ]
  },
  {
   "cell_type": "code",
   "execution_count": 45,
   "metadata": {},
   "outputs": [],
   "source": [
    "alignment = dtw(bed.loc[:8400,'sensor_state'], toilet.loc[:8400,'sensor_state'], keep_internals=True)\n",
    "\n",
    "alignment.plot(type=\"threeway\")"
   ]
  },
  {
   "cell_type": "code",
   "execution_count": null,
   "metadata": {},
   "outputs": [],
   "source": [
    "x = np.array([[row['timestamp'], row['sensor_state']] for index, row in bed.iterrows()])"
   ]
  },
  {
   "cell_type": "code",
   "execution_count": 56,
   "metadata": {},
   "outputs": [],
   "source": [
    "y = np.array([[row['timestamp'], row['sensor_state']] for index, row in toilet.iterrows()])"
   ]
  },
  {
   "cell_type": "code",
   "execution_count": 11,
   "metadata": {},
   "outputs": [],
   "source": [
    "x = bed.to_numpy()\n",
    "y = toilet.to_numpy()"
   ]
  },
  {
   "cell_type": "code",
   "execution_count": 12,
   "metadata": {},
   "outputs": [
    {
     "name": "stdout",
     "output_type": "stream",
     "text": [
      "27280.0\n"
     ]
    }
   ],
   "source": [
    "distance, path = fastdtw(x[:86400], y[:86400], dist=hamming)\n",
    "print(distance)"
   ]
  }
 ],
 "metadata": {
  "kernelspec": {
   "display_name": "Python 3",
   "language": "python",
   "name": "python3"
  },
  "language_info": {
   "codemirror_mode": {
    "name": "ipython",
    "version": 3
   },
   "file_extension": ".py",
   "mimetype": "text/x-python",
   "name": "python",
   "nbconvert_exporter": "python",
   "pygments_lexer": "ipython3",
   "version": "3.6.9"
  }
 },
 "nbformat": 4,
 "nbformat_minor": 4
}
